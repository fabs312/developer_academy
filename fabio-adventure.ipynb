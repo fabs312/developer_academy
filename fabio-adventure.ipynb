{
 "cells": [
  {
   "cell_type": "code",
   "execution_count": 6,
   "metadata": {},
   "outputs": [
    {
     "name": "stdout",
     "output_type": "stream",
     "text": [
      "Welcome afsdf to the London adventure!\n",
      "Great! Lots of wonderful things you will get to know about London! In this advernture you will get to know places like Tower Bridge, Brixton, Wembley, Chelsea and Central London? Which one would you like to know first? \n",
      " You arrive at Chelsea and A guy named Flo approaches you. He is wearing a suit and says: Bonjour!! He is a gun and you work for me now. He adds The Royal Borough of Kensington and Chelsea is an Inner London borough with royal status. It is the smallest borough in London and the second smallest district in England; it is one of the most densely populated administrative regions in the United Kingdom. It includes affluent areas such as Notting Hill, Kensington, South Kensington, Chelsea, and Knightsbridge. \n"
     ]
    }
   ],
   "source": [
    "name = input(\"Enter your name: \")\n",
    "print(f'Welcome {name} to the London adventure!')\n",
    "start = input('Would you like to play this game? Answer yes or no!')\n",
    "if start == 'yes':\n",
    "    print('Great! Lots of wonderful things you will get to know about London! In this advernture you will get to know places like Tower Bridge, Brixton, Wembley, Chelsea and Central London? Which one would you like to know first? ')\n",
    "    setting = input('type Tower Bridge, Brixton, Wembley, Chelsea and Central London?' )\n",
    "\n",
    "else:\n",
    "    print(\"ok, go get some tea and come back, matey!\")\n",
    "    quit()\n",
    "    \n",
    "#Tower Bridge\n",
    "if setting == 'Tower Bridge':\n",
    "    print(\"Welcome to Tower Bridge. You see a guy called Michael and this is his favourite place in London, he does not stop geeting you for some reason after every sentence. Here we have bridge located in the London Thames River. Built between 1886 and 1894, the Bridge has spent more than a century as Londons defining landmark, an icon of London and the United Kingdom\")\n",
    "    response = input('to know more about it, please type more or type end ')\n",
    "    if response == 'more':\n",
    "        print('It took eight years to build it, five major contractors and the relentless labour of 432 construction workers each day to build Tower Bridge under the watchful eye of Sir John Wolfe Barry.')\n",
    "    if response == 'end':\n",
    "        print(\"You just got stabbed at London Bridge. Game Over!\")\n",
    "        print(\"If you want to continue, restart with another place in London\")\n",
    "        quit()\n",
    "\n",
    "#Brixton\n",
    "if setting == 'Brixton':\n",
    "    print(\"Welcome to Brixton, unfortunately you got stabbed by roadman KP. But i sitll let you know about the history of it. Brixton is a district in south London, part of the London Borough of Lambeth, England. The area is identified in the London Plan as one of 35 major centres in Greater London. Brixton experienced a rapid rise in population during the 19th century as communications with central London improved.\")\n",
    "    response = input('to know more about it, please type more or type end ')\n",
    "    if response == 'more':\n",
    "        print(\"By 1925, Brixton attracted thousands of new people. It housed the largest shopping centre in south London at the time, as well as a thriving market, cinemas, pubs and a theatre. In the 1920s, Brixton was the shopping capital of south London with three large department stores and some of the earliest branches of what are now Britain's major national retailers. Today, Brixton Road is the main shopping area, fusing into Brixton Market.\")\n",
    "    if response == 'end':\n",
    "        print(\" Game Over!\")\n",
    "        print(\"If you want to continue, restart with another place in London\")\n",
    "        quit()\n",
    "\n",
    "\n",
    "#Central London\n",
    "if setting == 'Central London':\n",
    "    print(\"You have just heard a big boom (it could be possibly a bomb) next To Oxford Cirucs but you are fine and you see Sohail in deep shock running towards you. He manages to talk to you about Central London. Bro, Central London is the innermost part of London, in England, spanning several boroughs. Over time, a number of definitions have been used to define the scope of Central London for statistics, urban planning and local government. Its characteristics are understood to include a high density built environment, high land values, an elevated daytime population and a concentration of regionally, nationally and internationally significant organisations and facilities. \")\n",
    "    response = input(' to know more about it, please type more or type end ')\n",
    "    if response == 'more':\n",
    "        print(\"The central area is distinguished, according to the Royal Commission, by the inclusion within its boundaries of Parliament and the Royal Palaces, the headquarters of Government, the Law Courts, the head offices of a very large number of commercial and industrial firms, as well as institutions of great influence in the intellectual life of the nation such as the British Museum, the National Gallery, the Tate Gallery, the University of London, the headquarters of the national ballet and opera, together with the headquarters of many national associations\")\n",
    "    if response == 'end':\n",
    "        print(\" Game Over!\")\n",
    "        print(\"If you want to continue, restart with another place in London\")\n",
    "        quit()\n",
    "\n",
    "#Wembley\n",
    "if setting == 'Wembley':\n",
    "    print(\"You see roadman Abdul trying to sell £50 a bag. He says Wembley is a large suburb in north-west London, England, 8 miles (13 km) northwest of Charing Cross. It includes the neighbourhoods of Alperton, North Wembley, Preston, Sudbury, Tokyngton and Wembley Park.\")\n",
    "    response = input(' to know more about it, please type more or type end ')\n",
    "    if response == 'more':\n",
    "        print(\"The main town in Wembley is one of the major development projects in London in the early 21st century, as specified in the London Plan published by the Mayor of London Ken Livingstone in 2004. A shopping plaza along High Road, an attractive shopping district in the 1950s, suffered slow decline by the 1980s and was therefore poorly maintained. Its Marks & Spencer department store closed in 2005 after 71 years trading\")\n",
    "    if response == 'end':\n",
    "        print(\" Game Over!\")\n",
    "        print(\"If you want to continue, restart with another place in London\")\n",
    "        quit()\n",
    "\n",
    "#Chelsea\n",
    "if setting == 'Chelsea':\n",
    "    print(\"You arrive at Chelsea and A guy named Flo approaches you. He is wearing a suit and says: Bonjour!! Here is a gun and you work for me now. He adds: The Royal Borough of Kensington and Chelsea is an Inner London borough with royal status. It is the smallest borough in London and the second smallest district in England; it is one of the most densely populated administrative regions in the United Kingdom. It includes affluent areas such as Notting Hill, Kensington, South Kensington, Chelsea, and Knightsbridge. \")\n",
    "    response = input(' to know more about it, please type more or type end ')\n",
    "    if response == 'more':\n",
    "        print(\"The borough was formed by the merger of the Royal Borough of Kensington and the Metropolitan Borough of Chelsea, under the London Government Act 1963, which reorganised 86 boroughs and urban districts into 32 London boroughs on 1 April 1965 together with the creation of the Greater London Council.\")\n",
    "    if response == 'end':\n",
    "        print(\" Game Over!\")\n",
    "        print(\"If you want to continue, restart with another place in London\")\n",
    "        quit()\n",
    "\n"
   ]
  }
 ],
 "metadata": {
  "kernelspec": {
   "display_name": "Python 3.10.4 64-bit",
   "language": "python",
   "name": "python3"
  },
  "language_info": {
   "codemirror_mode": {
    "name": "ipython",
    "version": 3
   },
   "file_extension": ".py",
   "mimetype": "text/x-python",
   "name": "python",
   "nbconvert_exporter": "python",
   "pygments_lexer": "ipython3",
   "version": "3.10.5"
  },
  "orig_nbformat": 4,
  "vscode": {
   "interpreter": {
    "hash": "26de051ba29f2982a8de78e945f0abaf191376122a1563185a90213a26c5da77"
   }
  }
 },
 "nbformat": 4,
 "nbformat_minor": 2
}
