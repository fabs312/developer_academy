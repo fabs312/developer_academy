{
 "cells": [
  {
   "cell_type": "code",
   "execution_count": 45,
   "metadata": {},
   "outputs": [
    {
     "ename": "IndexError",
     "evalue": "Replacement index 13 out of range for positional args tuple",
     "output_type": "error",
     "traceback": [
      "\u001b[1;31m---------------------------------------------------------------------------\u001b[0m",
      "\u001b[1;31mIndexError\u001b[0m                                Traceback (most recent call last)",
      "\u001b[1;32mc:\\Users\\Fabio\\Desktop\\developer academy data\\developer_academy\\fabs312\\developer_academy\\mad_lib_generator.ipynb Cell 1'\u001b[0m in \u001b[0;36m<cell line: 55>\u001b[1;34m()\u001b[0m\n\u001b[0;32m     <a href='vscode-notebook-cell:/c%3A/Users/Fabio/Desktop/developer%20academy%20data/developer_academy/fabs312/developer_academy/mad_lib_generator.ipynb#ch0000001?line=37'>38</a>\u001b[0m     \u001b[39mreturn\u001b[39;00m story\u001b[39m.\u001b[39mformat(\n\u001b[0;32m     <a href='vscode-notebook-cell:/c%3A/Users/Fabio/Desktop/developer%20academy%20data/developer_academy/fabs312/developer_academy/mad_lib_generator.ipynb#ch0000001?line=38'>39</a>\u001b[0m         get_word(\u001b[39m'\u001b[39m\u001b[39madjective\u001b[39m\u001b[39m'\u001b[39m, local_dict), \n\u001b[0;32m     <a href='vscode-notebook-cell:/c%3A/Users/Fabio/Desktop/developer%20academy%20data/developer_academy/fabs312/developer_academy/mad_lib_generator.ipynb#ch0000001?line=39'>40</a>\u001b[0m         get_word(\u001b[39m'\u001b[39m\u001b[39msports noun\u001b[39m\u001b[39m'\u001b[39m, local_dict),\n\u001b[1;32m   (...)\u001b[0m\n\u001b[0;32m     <a href='vscode-notebook-cell:/c%3A/Users/Fabio/Desktop/developer%20academy%20data/developer_academy/fabs312/developer_academy/mad_lib_generator.ipynb#ch0000001?line=50'>51</a>\u001b[0m         get_word(\u001b[39m'\u001b[39m\u001b[39mnoun\u001b[39m\u001b[39m'\u001b[39m, local_dict)\n\u001b[0;32m     <a href='vscode-notebook-cell:/c%3A/Users/Fabio/Desktop/developer%20academy%20data/developer_academy/fabs312/developer_academy/mad_lib_generator.ipynb#ch0000001?line=51'>52</a>\u001b[0m )\n\u001b[0;32m     <a href='vscode-notebook-cell:/c%3A/Users/Fabio/Desktop/developer%20academy%20data/developer_academy/fabs312/developer_academy/mad_lib_generator.ipynb#ch0000001?line=53'>54</a>\u001b[0m \u001b[39m#Run stories\u001b[39;00m\n\u001b[1;32m---> <a href='vscode-notebook-cell:/c%3A/Users/Fabio/Desktop/developer%20academy%20data/developer_academy/fabs312/developer_academy/mad_lib_generator.ipynb#ch0000001?line=54'>55</a>\u001b[0m story1\u001b[39m=\u001b[39m create_story()\n\u001b[0;32m     <a href='vscode-notebook-cell:/c%3A/Users/Fabio/Desktop/developer%20academy%20data/developer_academy/fabs312/developer_academy/mad_lib_generator.ipynb#ch0000001?line=56'>57</a>\u001b[0m story2\u001b[39m=\u001b[39m create_story()\n\u001b[0;32m     <a href='vscode-notebook-cell:/c%3A/Users/Fabio/Desktop/developer%20academy%20data/developer_academy/fabs312/developer_academy/mad_lib_generator.ipynb#ch0000001?line=58'>59</a>\u001b[0m story3\u001b[39m=\u001b[39m create_story()\n",
      "\u001b[1;32mc:\\Users\\Fabio\\Desktop\\developer academy data\\developer_academy\\fabs312\\developer_academy\\mad_lib_generator.ipynb Cell 1'\u001b[0m in \u001b[0;36mcreate_story\u001b[1;34m()\u001b[0m\n\u001b[0;32m     <a href='vscode-notebook-cell:/c%3A/Users/Fabio/Desktop/developer%20academy%20data/developer_academy/fabs312/developer_academy/mad_lib_generator.ipynb#ch0000001?line=35'>36</a>\u001b[0m     \u001b[39m# create a local copy of the dict so that we can pop words as used\u001b[39;00m\n\u001b[0;32m     <a href='vscode-notebook-cell:/c%3A/Users/Fabio/Desktop/developer%20academy%20data/developer_academy/fabs312/developer_academy/mad_lib_generator.ipynb#ch0000001?line=36'>37</a>\u001b[0m     local_dict \u001b[39m=\u001b[39m copy\u001b[39m.\u001b[39mdeepcopy(word_dict)\n\u001b[1;32m---> <a href='vscode-notebook-cell:/c%3A/Users/Fabio/Desktop/developer%20academy%20data/developer_academy/fabs312/developer_academy/mad_lib_generator.ipynb#ch0000001?line=37'>38</a>\u001b[0m     \u001b[39mreturn\u001b[39;00m story\u001b[39m.\u001b[39;49mformat(\n\u001b[0;32m     <a href='vscode-notebook-cell:/c%3A/Users/Fabio/Desktop/developer%20academy%20data/developer_academy/fabs312/developer_academy/mad_lib_generator.ipynb#ch0000001?line=38'>39</a>\u001b[0m         get_word(\u001b[39m'\u001b[39;49m\u001b[39madjective\u001b[39;49m\u001b[39m'\u001b[39;49m, local_dict), \n\u001b[0;32m     <a href='vscode-notebook-cell:/c%3A/Users/Fabio/Desktop/developer%20academy%20data/developer_academy/fabs312/developer_academy/mad_lib_generator.ipynb#ch0000001?line=39'>40</a>\u001b[0m         get_word(\u001b[39m'\u001b[39;49m\u001b[39msports noun\u001b[39;49m\u001b[39m'\u001b[39;49m, local_dict),\n\u001b[0;32m     <a href='vscode-notebook-cell:/c%3A/Users/Fabio/Desktop/developer%20academy%20data/developer_academy/fabs312/developer_academy/mad_lib_generator.ipynb#ch0000001?line=40'>41</a>\u001b[0m         get_word(\u001b[39m'\u001b[39;49m\u001b[39mcity name\u001b[39;49m\u001b[39m'\u001b[39;49m, local_dict),\n\u001b[0;32m     <a href='vscode-notebook-cell:/c%3A/Users/Fabio/Desktop/developer%20academy%20data/developer_academy/fabs312/developer_academy/mad_lib_generator.ipynb#ch0000001?line=41'>42</a>\u001b[0m         get_word(\u001b[39m'\u001b[39;49m\u001b[39mnoun\u001b[39;49m\u001b[39m'\u001b[39;49m, local_dict),\n\u001b[0;32m     <a href='vscode-notebook-cell:/c%3A/Users/Fabio/Desktop/developer%20academy%20data/developer_academy/fabs312/developer_academy/mad_lib_generator.ipynb#ch0000001?line=42'>43</a>\u001b[0m         get_word(\u001b[39m'\u001b[39;49m\u001b[39mnoun\u001b[39;49m\u001b[39m'\u001b[39;49m, local_dict),\n\u001b[0;32m     <a href='vscode-notebook-cell:/c%3A/Users/Fabio/Desktop/developer%20academy%20data/developer_academy/fabs312/developer_academy/mad_lib_generator.ipynb#ch0000001?line=43'>44</a>\u001b[0m         get_word(\u001b[39m'\u001b[39;49m\u001b[39maction verb\u001b[39;49m\u001b[39m'\u001b[39;49m, local_dict),\n\u001b[0;32m     <a href='vscode-notebook-cell:/c%3A/Users/Fabio/Desktop/developer%20academy%20data/developer_academy/fabs312/developer_academy/mad_lib_generator.ipynb#ch0000001?line=44'>45</a>\u001b[0m         get_word(\u001b[39m'\u001b[39;49m\u001b[39mnoun\u001b[39;49m\u001b[39m'\u001b[39;49m, local_dict),\n\u001b[0;32m     <a href='vscode-notebook-cell:/c%3A/Users/Fabio/Desktop/developer%20academy%20data/developer_academy/fabs312/developer_academy/mad_lib_generator.ipynb#ch0000001?line=45'>46</a>\u001b[0m         get_word(\u001b[39m'\u001b[39;49m\u001b[39mnoun\u001b[39;49m\u001b[39m'\u001b[39;49m, local_dict),\n\u001b[0;32m     <a href='vscode-notebook-cell:/c%3A/Users/Fabio/Desktop/developer%20academy%20data/developer_academy/fabs312/developer_academy/mad_lib_generator.ipynb#ch0000001?line=46'>47</a>\u001b[0m         get_word(\u001b[39m'\u001b[39;49m\u001b[39mnoun\u001b[39;49m\u001b[39m'\u001b[39;49m, local_dict),\n\u001b[0;32m     <a href='vscode-notebook-cell:/c%3A/Users/Fabio/Desktop/developer%20academy%20data/developer_academy/fabs312/developer_academy/mad_lib_generator.ipynb#ch0000001?line=47'>48</a>\u001b[0m         get_word(\u001b[39m'\u001b[39;49m\u001b[39madjective\u001b[39;49m\u001b[39m'\u001b[39;49m, local_dict),\n\u001b[0;32m     <a href='vscode-notebook-cell:/c%3A/Users/Fabio/Desktop/developer%20academy%20data/developer_academy/fabs312/developer_academy/mad_lib_generator.ipynb#ch0000001?line=48'>49</a>\u001b[0m         get_word(\u001b[39m'\u001b[39;49m\u001b[39mnoun\u001b[39;49m\u001b[39m'\u001b[39;49m, local_dict),\n\u001b[0;32m     <a href='vscode-notebook-cell:/c%3A/Users/Fabio/Desktop/developer%20academy%20data/developer_academy/fabs312/developer_academy/mad_lib_generator.ipynb#ch0000001?line=49'>50</a>\u001b[0m         get_word(\u001b[39m'\u001b[39;49m\u001b[39madjective\u001b[39;49m\u001b[39m'\u001b[39;49m, local_dict),\n\u001b[0;32m     <a href='vscode-notebook-cell:/c%3A/Users/Fabio/Desktop/developer%20academy%20data/developer_academy/fabs312/developer_academy/mad_lib_generator.ipynb#ch0000001?line=50'>51</a>\u001b[0m         get_word(\u001b[39m'\u001b[39;49m\u001b[39mnoun\u001b[39;49m\u001b[39m'\u001b[39;49m, local_dict)\n\u001b[0;32m     <a href='vscode-notebook-cell:/c%3A/Users/Fabio/Desktop/developer%20academy%20data/developer_academy/fabs312/developer_academy/mad_lib_generator.ipynb#ch0000001?line=51'>52</a>\u001b[0m )\n",
      "\u001b[1;31mIndexError\u001b[0m: Replacement index 13 out of range for positional args tuple"
     ]
    }
   ],
   "source": [
    "#mad lib generator to create a story\n",
    "from random import randint\n",
    "import copy\n",
    "\n",
    "#Create a dictinoary of words of the type you will use in the story\n",
    "\n",
    "word_dict = {\n",
    "    'adjective':['beautiful','rich','big','quaint','abundant','magical','fresh','cosmopolitan','majestic','alive','violent','vibrant'],\n",
    "    'city name':['Rio de Janeiro', 'London','Paris','New York', 'Rome'],\n",
    "    'noun':['people','mountains','spot','streets','weather','map','music','monuments','vibe','rice and beans','atmosphere','places','jungle'],\n",
    "    'action verb':['see','feel','reach','escape','visit','run','walk','imagine','notice'],\n",
    "    'sports noun':['ball','futvolley','volleyball','uniform','football','stadium','player']\n",
    "}\n",
    "\n",
    "#select a story and insert the words above randomly\n",
    "story = (\n",
    "    \"One day my {} friend and I decided to go to the {} game in {} city. \"+\n",
    "    \"We really wanted to see the {} play the {}. So, we {} our {} \"+ \n",
    "    \"down to the {} and bought some {}s. We got into the game and \"+\n",
    "    \"it was a lot of fun. We ate some {} {} and drank some {} {}. \"+\n",
    "    \"We had a great time! We plan to go again next year!\" +\n",
    "    \"The {} were {}. There is alwways something {} to see\"\n",
    ")\n",
    "\n",
    "#Create a function that will give me a word from word_dict by type of word:\n",
    "def get_word(type, local_dict):\n",
    "    ''' get a random word from the word_dict based on word type '''\n",
    "    words = local_dict[type]\n",
    "    cnt = len(words)-1\n",
    "    index = randint(0, cnt)\n",
    "    return local_dict[type].pop(index)\n",
    "\n",
    "#Create a function that will insert a random word into the story\n",
    "def create_story():\n",
    "    ''' create a random story from word dict '''\n",
    "    # create a local copy of the dict so that we can pop words as used\n",
    "    local_dict = copy.deepcopy(word_dict)\n",
    "    return story.format(\n",
    "        get_word('adjective', local_dict), \n",
    "        get_word('sports noun', local_dict),\n",
    "        get_word('city name', local_dict),\n",
    "        get_word('noun', local_dict),\n",
    "        get_word('noun', local_dict),\n",
    "        get_word('action verb', local_dict),\n",
    "        get_word('noun', local_dict),\n",
    "        get_word('noun', local_dict),\n",
    "        get_word('noun', local_dict),\n",
    "        get_word('adjective', local_dict),\n",
    "        get_word('noun', local_dict),\n",
    "        get_word('adjective', local_dict),\n",
    "        get_word('noun', local_dict)\n",
    ")\n",
    "\n",
    "#Run stories\n",
    "story1= create_story()\n",
    "\n",
    "story2= create_story()\n",
    "\n",
    "story3= create_story()\n",
    "\n",
    "#Print stories\n",
    "print(story1)\n",
    "print(story2)\n",
    "print(story3)\n"
   ]
  }
 ],
 "metadata": {
  "interpreter": {
   "hash": "26de051ba29f2982a8de78e945f0abaf191376122a1563185a90213a26c5da77"
  },
  "kernelspec": {
   "display_name": "Python 3.10.4 64-bit",
   "language": "python",
   "name": "python3"
  },
  "language_info": {
   "codemirror_mode": {
    "name": "ipython",
    "version": 3
   },
   "file_extension": ".py",
   "mimetype": "text/x-python",
   "name": "python",
   "nbconvert_exporter": "python",
   "pygments_lexer": "ipython3",
   "version": "3.10.4"
  },
  "orig_nbformat": 4
 },
 "nbformat": 4,
 "nbformat_minor": 2
}
