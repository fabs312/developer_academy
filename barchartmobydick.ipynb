{
 "cells": [
  {
   "cell_type": "code",
   "execution_count": 4,
   "metadata": {},
   "outputs": [
    {
     "data": {
      "image/png": "[encoded data removed]",
      "text/plain": [
       "<Figure size 432x288 with 1 Axes>"
      ]
     },
     "metadata": {
      "needs_background": "light"
     },
     "output_type": "display_data"
    }
   ],
   "source": [
    "import numpy as np\n",
    "import matplotlib.pyplot as plt\n",
    "\n",
    "text_file = 'mobbydick.txt'\n",
    "\n",
    "letters = 'ABCDEFGHIJKLMNOPQRSTUVWXYZ'\n",
    "# Initialize the dictionary of letter counts: {'A': 0, 'B': 0, ...}\n",
    "lcount = dict([(l, 0) for l in letters])\n",
    "\n",
    "# Read in the text and count the letter occurences\n",
    "for l in open(text_file, encoding='utf8').read():  # need to specify unicode\n",
    "    try:\n",
    "        lcount[l.upper()] += 1\n",
    "    except KeyError:\n",
    "        # Ignore characters that are not letters\n",
    "        pass\n",
    "# The total number of letters\n",
    "norm = sum(lcount.values())\n",
    "\n",
    "fig = plt.figure()\n",
    "ax = fig.add_subplot(111)\n",
    "# The bar chart, with letters along the horizontal axis and the calculated\n",
    "# letter frequencies as percentages as the bar height\n",
    "x = range(26)\n",
    "ax.bar(x, [lcount[l]/norm * 100 for l in letters], width=0.8,\n",
    "       color='g', alpha=0.5, align='center')\n",
    "ax.set_xticks(x)\n",
    "ax.set_xticklabels(letters)\n",
    "ax.tick_params(axis='x', direction='out')\n",
    "ax.set_xlim(-0.5, 25.5)\n",
    "ax.yaxis.grid(True)\n",
    "ax.set_ylabel('Letter frequency, %')\n",
    "plt.show()"
   ]
  }
 ],
 "metadata": {
  "interpreter": {
   "hash": "26de051ba29f2982a8de78e945f0abaf191376122a1563185a90213a26c5da77"
  },
  "kernelspec": {
   "display_name": "Python 3.10.4 64-bit",
   "language": "python",
   "name": "python3"
  },
  "language_info": {
   "codemirror_mode": {
    "name": "ipython",
    "version": 3
   },
   "file_extension": ".py",
   "mimetype": "text/x-python",
   "name": "python",
   "nbconvert_exporter": "python",
   "pygments_lexer": "ipython3",
   "version": "3.10.4"
  },
  "orig_nbformat": 4
 },
 "nbformat": 4,
 "nbformat_minor": 2
}
